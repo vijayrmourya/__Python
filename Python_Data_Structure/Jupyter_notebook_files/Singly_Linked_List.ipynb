{
 "cells": [
  {
   "cell_type": "code",
   "execution_count": 7,
   "metadata": {},
   "outputs": [],
   "source": [
    "class Node(object):\n",
    "    def __init__(self,value):\n",
    "        self.value=value\n",
    "        self.nextnode = None"
   ]
  },
  {
   "cell_type": "code",
   "execution_count": 8,
   "metadata": {},
   "outputs": [],
   "source": [
    "Head=None\n",
    "Tail=None\n",
    "a=Node(56)\n",
    "b=Node(46)\n",
    "Head=a\n",
    "Tail=b"
   ]
  },
  {
   "cell_type": "code",
   "execution_count": 9,
   "metadata": {},
   "outputs": [],
   "source": [
    "a.nextnode=b\n",
    "c=Node(86)\n",
    "d=Node(46)\n",
    "e=Node(85)\n",
    "Tail=e\n",
    "Head=c\n",
    "c.nextnode=a\n",
    "b.nextnode=d\n",
    "d.nextnode=e"
   ]
  },
  {
   "cell_type": "code",
   "execution_count": 10,
   "metadata": {},
   "outputs": [
    {
     "name": "stdout",
     "output_type": "stream",
     "text": [
      "86\n",
      "56\n",
      "46\n",
      "46\n",
      "85\n"
     ]
    }
   ],
   "source": [
    "head=Head\n",
    "while head.nextnode!=None:\n",
    "    print(head.value)\n",
    "    head=head.nextnode\n",
    "if(head.nextnode==None):\n",
    "    print(Tail.value)"
   ]
  },
  {
   "cell_type": "code",
   "execution_count": 11,
   "metadata": {},
   "outputs": [],
   "source": [
    "last=Node(6)\n",
    "new=Node(6855)\n",
    "new.nextnode=Head\n",
    "Head=new\n",
    "Tail.nextnode=last\n",
    "Tail=last\n",
    "head=Head"
   ]
  },
  {
   "cell_type": "code",
   "execution_count": 12,
   "metadata": {},
   "outputs": [
    {
     "name": "stdout",
     "output_type": "stream",
     "text": [
      "6855\n",
      "86\n",
      "56\n",
      "46\n",
      "46\n",
      "85\n",
      "last node:  6\n"
     ]
    }
   ],
   "source": [
    "while head.nextnode!=None:\n",
    "    print(head.value)\n",
    "    head=head.nextnode\n",
    "if(head.nextnode==None):\n",
    "    print('last node: ',Tail.value)"
   ]
  },
  {
   "cell_type": "code",
   "execution_count": null,
   "metadata": {},
   "outputs": [],
   "source": []
  }
 ],
 "metadata": {
  "kernelspec": {
   "display_name": "Python 3",
   "language": "python",
   "name": "python3"
  },
  "language_info": {
   "codemirror_mode": {
    "name": "ipython",
    "version": 3
   },
   "file_extension": ".py",
   "mimetype": "text/x-python",
   "name": "python",
   "nbconvert_exporter": "python",
   "pygments_lexer": "ipython3",
   "version": "3.8.5"
  }
 },
 "nbformat": 4,
 "nbformat_minor": 4
}
