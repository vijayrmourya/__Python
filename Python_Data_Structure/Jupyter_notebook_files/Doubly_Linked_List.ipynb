{
 "cells": [
  {
   "cell_type": "code",
   "execution_count": 1,
   "metadata": {},
   "outputs": [],
   "source": [
    "class Node(object):\n",
    "    def __init__(self,value):\n",
    "        self.value=value\n",
    "        self.nextnode = None\n",
    "        self.prevnode = None"
   ]
  },
  {
   "cell_type": "code",
   "execution_count": 4,
   "metadata": {},
   "outputs": [],
   "source": [
    "A=Node(25)\n",
    "B=Node(50)\n",
    "C=Node(75)\n",
    "A.nextnode=B\n",
    "B.nextnode=C\n",
    "B.prevnode=A\n",
    "C.prevnode=B\n",
    "Head=A\n",
    "Tail=C"
   ]
  },
  {
   "cell_type": "code",
   "execution_count": 7,
   "metadata": {},
   "outputs": [
    {
     "name": "stdout",
     "output_type": "stream",
     "text": [
      "25\n",
      "50\n",
      "75\n"
     ]
    }
   ],
   "source": [
    "head=Head\n",
    "while head.nextnode!=None:\n",
    "    print(head.value)\n",
    "    head=head.nextnode\n",
    "if(head.nextnode==None):\n",
    "    print(Tail.value)"
   ]
  },
  {
   "cell_type": "code",
   "execution_count": 8,
   "metadata": {},
   "outputs": [],
   "source": [
    "Z=Node(100)\n",
    "F=Node(20)\n",
    "Head.prevnode=F\n",
    "F.nextnode=Head\n",
    "Head=F\n",
    "Tail.nextnode=Z\n",
    "Z.prevnode=Tail\n",
    "Tail=Z"
   ]
  },
  {
   "cell_type": "code",
   "execution_count": 12,
   "metadata": {},
   "outputs": [
    {
     "name": "stdout",
     "output_type": "stream",
     "text": [
      "20\n",
      "25\n",
      "50\n",
      "75\n",
      "100\n"
     ]
    }
   ],
   "source": [
    "head=Head\n",
    "while head.nextnode!=None:\n",
    "    print(head.value)\n",
    "    head=head.nextnode\n",
    "if(head.nextnode==None):\n",
    "    print(head.value)"
   ]
  },
  {
   "cell_type": "code",
   "execution_count": 13,
   "metadata": {},
   "outputs": [
    {
     "name": "stdout",
     "output_type": "stream",
     "text": [
      "100\n",
      "75\n",
      "50\n",
      "25\n",
      "20\n"
     ]
    }
   ],
   "source": [
    "tail=Tail\n",
    "while tail.prevnode!=None:\n",
    "    print(tail.value)\n",
    "    tail=tail.prevnode\n",
    "if(tail.prevnode==None):\n",
    "    print(tail.value)"
   ]
  },
  {
   "cell_type": "code",
   "execution_count": null,
   "metadata": {},
   "outputs": [],
   "source": []
  }
 ],
 "metadata": {
  "kernelspec": {
   "display_name": "Python 3",
   "language": "python",
   "name": "python3"
  },
  "language_info": {
   "codemirror_mode": {
    "name": "ipython",
    "version": 3
   },
   "file_extension": ".py",
   "mimetype": "text/x-python",
   "name": "python",
   "nbconvert_exporter": "python",
   "pygments_lexer": "ipython3",
   "version": "3.8.5"
  }
 },
 "nbformat": 4,
 "nbformat_minor": 4
}
