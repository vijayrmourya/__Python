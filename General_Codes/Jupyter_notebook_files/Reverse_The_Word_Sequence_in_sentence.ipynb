{
 "cells": [
  {
   "cell_type": "markdown",
   "metadata": {},
   "source": [
    "From the given sentence reverse sequence of all words"
   ]
  },
  {
   "cell_type": "code",
   "execution_count": 7,
   "metadata": {},
   "outputs": [],
   "source": [
    "# input:\n",
    "# oh yeah! you're much more of a Thanos.\n",
    "\n",
    "# output\n",
    "# Thanos. a of more much you're yeah! oh"
   ]
  },
  {
   "cell_type": "code",
   "execution_count": 37,
   "metadata": {},
   "outputs": [
    {
     "name": "stdout",
     "output_type": "stream",
     "text": [
      "oh yeah! you're much more of a Thanos.\n",
      "Thanos. a of more much you're yeah! oh\n"
     ]
    }
   ],
   "source": [
    "#solution1\n",
    "a=input()\n",
    "b=a.split(' ')\n",
    "b=b[::-1]\n",
    "print(' '.join(b))"
   ]
  },
  {
   "cell_type": "code",
   "execution_count": 61,
   "metadata": {},
   "outputs": [
    {
     "name": "stdout",
     "output_type": "stream",
     "text": [
      "Thanos. a of more much you're yeah! oh\n",
      "oh yeah! you're much more of a Thanos. \n"
     ]
    }
   ],
   "source": [
    "#solution2\n",
    "a=input()\n",
    "sent=''\n",
    "s=''\n",
    "for i in range(len(a)-1,0,-1):\n",
    "    if a[i]!=' ':\n",
    "        s=s+a[i]\n",
    "        continue\n",
    "    n=s[::-1]\n",
    "    s=''\n",
    "    sent=sent+n+' '\n",
    "#for last word\n",
    "s=''\n",
    "for i in range(0,len(a)-1):\n",
    "    if a[i]!=' ':\n",
    "        s=s+a[i]\n",
    "        continue\n",
    "    sent=sent+s+' '\n",
    "    break\n",
    "print(sent)   "
   ]
  },
  {
   "cell_type": "code",
   "execution_count": null,
   "metadata": {},
   "outputs": [],
   "source": []
  }
 ],
 "metadata": {
  "kernelspec": {
   "display_name": "Python 3",
   "language": "python",
   "name": "python3"
  },
  "language_info": {
   "codemirror_mode": {
    "name": "ipython",
    "version": 3
   },
   "file_extension": ".py",
   "mimetype": "text/x-python",
   "name": "python",
   "nbconvert_exporter": "python",
   "pygments_lexer": "ipython3",
   "version": "3.8.5"
  }
 },
 "nbformat": 4,
 "nbformat_minor": 4
}
