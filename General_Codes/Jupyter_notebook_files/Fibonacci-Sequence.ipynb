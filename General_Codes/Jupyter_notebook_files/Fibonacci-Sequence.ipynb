{
 "cells": [
  {
   "cell_type": "markdown",
   "metadata": {},
   "source": [
    "Fibonacci Sequence"
   ]
  },
  {
   "cell_type": "markdown",
   "metadata": {},
   "source": [
    "Enter a number and have the program generate the Fibonacci sequence of that length."
   ]
  },
  {
   "cell_type": "code",
   "execution_count": null,
   "metadata": {},
   "outputs": [],
   "source": [
    "# input:\n",
    "# 5\n",
    "\n",
    "# output:\n",
    "# 1\n",
    "# 1\n",
    "# 2\n",
    "# 3\n",
    "# 5"
   ]
  },
  {
   "cell_type": "code",
   "execution_count": 29,
   "metadata": {},
   "outputs": [
    {
     "name": "stdout",
     "output_type": "stream",
     "text": [
      "Please tell the length of series, (range 1 to 1000) :5\n",
      "Here is your Series of 5 Numbers:\n",
      "1\n",
      "1\n",
      "2\n",
      "3\n",
      "5\n"
     ]
    }
   ],
   "source": [
    "while(1):\n",
    "    A=int(input(\"Please tell the length of series, (range 1 to 1000) :\"))\n",
    "    if(A>1 and A<1001):\n",
    "        print(f\"Here is your Series of {A} Numbers:\")\n",
    "        num1, num2=0, 1\n",
    "        for i in range (1,A+1):\n",
    "            print(num2)\n",
    "    #         temp=num2\n",
    "    #         num2=num1+num2\n",
    "    #         num1=temp\n",
    "            num1,num2=num2, num1+num2\n",
    "        break\n",
    "    else:\n",
    "        print('Please enter a valid range')\n",
    "        continue"
   ]
  },
  {
   "cell_type": "code",
   "execution_count": null,
   "metadata": {},
   "outputs": [],
   "source": []
  }
 ],
 "metadata": {
  "kernelspec": {
   "display_name": "Python 3",
   "language": "python",
   "name": "python3"
  },
  "language_info": {
   "codemirror_mode": {
    "name": "ipython",
    "version": 3
   },
   "file_extension": ".py",
   "mimetype": "text/x-python",
   "name": "python",
   "nbconvert_exporter": "python",
   "pygments_lexer": "ipython3",
   "version": "3.8.5"
  }
 },
 "nbformat": 4,
 "nbformat_minor": 4
}
