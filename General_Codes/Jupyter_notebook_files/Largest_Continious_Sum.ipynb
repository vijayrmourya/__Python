{
 "cells": [
  {
   "cell_type": "markdown",
   "metadata": {},
   "source": [
    "For the given array find the largest possible sum from the elements and the list of element"
   ]
  },
  {
   "cell_type": "code",
   "execution_count": 3,
   "metadata": {},
   "outputs": [],
   "source": [
    "# input:\n",
    "# 1 3 -5 6 -8 9 -4 2 9 7\n",
    "\n",
    "# output:\n",
    "# 37\n",
    "# [1, 3, 6, 9, 2, 9, 7]"
   ]
  },
  {
   "cell_type": "code",
   "execution_count": 4,
   "metadata": {},
   "outputs": [
    {
     "name": "stdout",
     "output_type": "stream",
     "text": [
      "1 3 -5 6 -8 9 -4 2 9 7\n",
      "37\n",
      "[1, 3, 6, 9, 2, 9, 7]\n"
     ]
    }
   ],
   "source": [
    "a=input().split(' ')\n",
    "b=[int(i) for i in a]\n",
    "sum=0\n",
    "lis=[]\n",
    "for i in b:\n",
    "    osum=sum\n",
    "    sum=sum+i\n",
    "    if osum>sum:\n",
    "        sum=osum\n",
    "    else:\n",
    "        lis.append(i)\n",
    "print(sum)\n",
    "print(lis)"
   ]
  },
  {
   "cell_type": "code",
   "execution_count": null,
   "metadata": {},
   "outputs": [],
   "source": []
  }
 ],
 "metadata": {
  "kernelspec": {
   "display_name": "Python 3",
   "language": "python",
   "name": "python3"
  },
  "language_info": {
   "codemirror_mode": {
    "name": "ipython",
    "version": 3
   },
   "file_extension": ".py",
   "mimetype": "text/x-python",
   "name": "python",
   "nbconvert_exporter": "python",
   "pygments_lexer": "ipython3",
   "version": "3.8.5"
  }
 },
 "nbformat": 4,
 "nbformat_minor": 4
}
