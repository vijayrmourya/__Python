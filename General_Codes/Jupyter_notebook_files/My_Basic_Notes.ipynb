{
 "cells": [
  {
   "cell_type": "markdown",
   "metadata": {},
   "source": [
    "# Hello World!"
   ]
  },
  {
   "cell_type": "code",
   "execution_count": 2,
   "metadata": {},
   "outputs": [
    {
     "name": "stdout",
     "output_type": "stream",
     "text": [
      "Hello World!\n"
     ]
    }
   ],
   "source": [
    "# Hello World\n",
    "print(\"Hello World!\")"
   ]
  },
  {
   "cell_type": "markdown",
   "metadata": {},
   "source": [
    "# Python Indentation"
   ]
  },
  {
   "cell_type": "code",
   "execution_count": 8,
   "metadata": {},
   "outputs": [
    {
     "name": "stdout",
     "output_type": "stream",
     "text": [
      "We're officially out of the function func()\n",
      "Python Indentation\n"
     ]
    }
   ],
   "source": [
    "def func():\n",
    "    #it is the first level indentation\n",
    "    #everything with this indentation is in function func()\n",
    "    if (True):\n",
    "        #it is the second level indentation\n",
    "        #everything with this indentation is in function func() but deep inside if block\n",
    "        pass\n",
    "    #if block ends\n",
    "    else: \n",
    "        #it is the second level indentation\n",
    "        #everything with this indentation is in function func() but deep inside else block\n",
    "        if (True):\n",
    "            #it is the third level indentation\n",
    "            #everything with this indentation is in function func() but deep inside else and then in if block\n",
    "            pass\n",
    "        #it is the second level indentation\n",
    "        #everything with this indentation is in function func() but deep inside else block\n",
    "        pass\n",
    "\n",
    "print(\"We're officially out of the function func()\")\n",
    "print(\"Python Indentation\")"
   ]
  },
  {
   "cell_type": "markdown",
   "metadata": {},
   "source": [
    "# Python Comments"
   ]
  },
  {
   "cell_type": "code",
   "execution_count": 3,
   "metadata": {},
   "outputs": [
    {
     "name": "stdout",
     "output_type": "stream",
     "text": [
      "Hello Python!\n"
     ]
    }
   ],
   "source": [
    "# This is a comment \n",
    "# Print “Hello python !” to console \n",
    "print(\"Hello Python!\") "
   ]
  },
  {
   "cell_type": "code",
   "execution_count": 4,
   "metadata": {},
   "outputs": [
    {
     "name": "stdout",
     "output_type": "stream",
     "text": [
      "Hello Nikita!\n"
     ]
    }
   ],
   "source": [
    "\"\"\" \n",
    "This would be a multiline comment in Python that \n",
    "spans several lines without any limit.\n",
    "\"\"\"\n",
    "print(\"Hello Nikita!\") "
   ]
  },
  {
   "cell_type": "markdown",
   "metadata": {},
   "source": [
    "# Variables"
   ]
  },
  {
   "cell_type": "code",
   "execution_count": 6,
   "metadata": {},
   "outputs": [
    {
     "name": "stdout",
     "output_type": "stream",
     "text": [
      "Age: 45\n",
      "salary: 1456.8\n",
      "name: John\n",
      "employed: True\n"
     ]
    }
   ],
   "source": [
    "# An integer assignment \n",
    "age = 45                     \n",
    "   \n",
    "# A floating point \n",
    "salary = 1456.8            \n",
    "   \n",
    "# A string   \n",
    "name = \"John\"             \n",
    "\n",
    "# A boolean\n",
    "Employed = True\n",
    "\n",
    "print(\"Age:\",age) \n",
    "print(\"salary:\",salary) \n",
    "print(\"name:\",name) \n",
    "print(\"employed:\",Employed)"
   ]
  },
  {
   "cell_type": "markdown",
   "metadata": {},
   "source": [
    "# Operators"
   ]
  },
  {
   "cell_type": "code",
   "execution_count": 9,
   "metadata": {},
   "outputs": [
    {
     "name": "stdout",
     "output_type": "stream",
     "text": [
      "13\n",
      "5\n",
      "36\n",
      "2.25\n",
      "2\n",
      "1\n"
     ]
    }
   ],
   "source": [
    "# Examples of Arithmetic Operator \n",
    "a = 9\n",
    "b = 4\n",
    "   \n",
    "# Addition of numbers \n",
    "add = a + b \n",
    "# Subtraction of numbers  \n",
    "sub = a - b \n",
    "# Multiplication of number  \n",
    "mul = a * b \n",
    "# Division(float) of number  \n",
    "div1 = a / b \n",
    "# Division(floor) of number  \n",
    "div2 = a // b \n",
    "# Modulo of both number \n",
    "mod = a % b \n",
    "   \n",
    "# print results \n",
    "print(add) \n",
    "print(sub) \n",
    "print(mul) \n",
    "print(div1) \n",
    "print(div2) \n",
    "print(mod)"
   ]
  },
  {
   "cell_type": "code",
   "execution_count": 10,
   "metadata": {},
   "outputs": [
    {
     "name": "stdout",
     "output_type": "stream",
     "text": [
      "False\n",
      "True\n",
      "False\n",
      "True\n",
      "False\n",
      "True\n"
     ]
    }
   ],
   "source": [
    "# Examples of Relational Operators \n",
    "a = 13\n",
    "b = 33\n",
    "   \n",
    "# a > b is False \n",
    "print(a > b) \n",
    "   \n",
    "# a < b is True \n",
    "print(a < b) \n",
    "   \n",
    "# a == b is False \n",
    "print(a == b) \n",
    "   \n",
    "# a != b is True \n",
    "print(a != b) \n",
    "   \n",
    "# a >= b is False \n",
    "print(a >= b) \n",
    "   \n",
    "# a <= b is True \n",
    "print(a <= b)"
   ]
  },
  {
   "cell_type": "code",
   "execution_count": 11,
   "metadata": {},
   "outputs": [
    {
     "name": "stdout",
     "output_type": "stream",
     "text": [
      "False\n",
      "True\n",
      "False\n"
     ]
    }
   ],
   "source": [
    "# Examples of Logical Operator \n",
    "a = True\n",
    "b = False\n",
    "   \n",
    "# Print a and b is False \n",
    "print(a and b) \n",
    "   \n",
    "# Print a or b is True \n",
    "print(a or b) \n",
    "   \n",
    "# Print not a is False \n",
    "print(not a) "
   ]
  },
  {
   "cell_type": "markdown",
   "metadata": {},
   "source": [
    "##### How logical operators work"
   ]
  },
  {
   "cell_type": "code",
   "execution_count": 13,
   "metadata": {},
   "outputs": [
    {
     "name": "stdout",
     "output_type": "stream",
     "text": [
      "The numbers are greater than 0\n",
      "Atleast one number is not greater than 0\n"
     ]
    }
   ],
   "source": [
    "# Logical operator returns True if both the operands are True else it returns False.\n",
    "# Python program to demonstrate \n",
    "# logical and operator \n",
    "  \n",
    "a = 10\n",
    "b = 10\n",
    "c = -10\n",
    "  \n",
    "if a > 0 and b > 0: \n",
    "    print(\"The numbers are greater than 0\") \n",
    "  \n",
    "if a > 0 and b > 0 and c > 0: \n",
    "    print(\"The numbers are greater than 0\") \n",
    "else: \n",
    "    print(\"Atleast one number is not greater than 0\") "
   ]
  },
  {
   "cell_type": "code",
   "execution_count": 14,
   "metadata": {},
   "outputs": [
    {
     "name": "stdout",
     "output_type": "stream",
     "text": [
      "The numbers are greater than 0\n",
      "Atleast one number has boolean value as False\n"
     ]
    }
   ],
   "source": [
    "# Python program to demonstrate \n",
    "# logical and operator \n",
    "  \n",
    "a = 10\n",
    "b = 12\n",
    "c = 0\n",
    "\n",
    "if a and b:\n",
    "    print(\"The numbers are greater than 0\") \n",
    "if a and b and c: \n",
    "    print(\"All the numbers have boolean value as True\") \n",
    "else: \n",
    "    print(\"Atleast one number has boolean value as False\") "
   ]
  },
  {
   "cell_type": "code",
   "execution_count": 16,
   "metadata": {},
   "outputs": [
    {
     "data": {
      "text/plain": [
       "'the logical operators work on the principle if any number is greater than 0 then its true and if any number is less than\\nor equal to 0 then its false'"
      ]
     },
     "execution_count": 16,
     "metadata": {},
     "output_type": "execute_result"
    }
   ],
   "source": [
    "'''the logical operators work on the principle if any number is greater than 0 then its true and if any number is less than\n",
    "or equal to 0 then its false'''"
   ]
  },
  {
   "cell_type": "code",
   "execution_count": 28,
   "metadata": {},
   "outputs": [
    {
     "name": "stdout",
     "output_type": "stream",
     "text": [
      "bitwise AND operation \n",
      "0b1010\n",
      "0b100\n",
      "0b0\n",
      "a AND b: 0\n",
      "-----------------------------\n",
      "bitwise OR operation \n",
      "0b1010\n",
      "0b100\n",
      "0b1110\n",
      "a OR b: 14\n",
      "-----------------------------\n",
      "bitwise NOT operation \n",
      "0b1010\n",
      "-0b1011\n",
      "NOT of a: -11\n",
      "-----------------------------\n",
      "bitwise XOR operation \n",
      "0b1010\n",
      "0b100\n",
      "0b1110\n",
      "a XOR b: 14\n",
      "-----------------------------\n",
      "bitwise right shift operation \n",
      "0b1010\n",
      "0b10\n",
      "right shift a by 2 bit: 2\n",
      "-----------------------------\n",
      "bitwise left shift operation \n",
      "0b1010\n",
      "0b101000\n",
      "left shift a by 2 bit: 40\n",
      "-----------------------------\n"
     ]
    }
   ],
   "source": [
    "# Examples of Bitwise operators \n",
    "a = 10\n",
    "b = 4\n",
    "   \n",
    "# Print bitwise AND operation \n",
    "print(\"bitwise AND operation \")\n",
    "print(bin(a))\n",
    "print(bin(b))\n",
    "print(bin(a & b))\n",
    "print(\"a AND b:\",a & b) \n",
    "print(\"-----------------------------\")\n",
    "   \n",
    "# Print bitwise OR operation \n",
    "print(\"bitwise OR operation \")\n",
    "print(bin(a))\n",
    "print(bin(b))\n",
    "print(bin(a | b))\n",
    "print(\"a OR b:\",a | b) \n",
    "print(\"-----------------------------\")\n",
    "   \n",
    "# Print bitwise NOT operation  \n",
    "print(\"bitwise NOT operation \")\n",
    "print(bin(a))\n",
    "print(bin(~a))\n",
    "print(\"NOT of a:\",~a) \n",
    "print(\"-----------------------------\")\n",
    "   \n",
    "# print bitwise XOR operation  \n",
    "print(\"bitwise XOR operation \")\n",
    "print(bin(a))\n",
    "print(bin(b))\n",
    "print(bin(a ^ b))\n",
    "print(\"a XOR b:\",a ^ b) \n",
    "print(\"-----------------------------\")\n",
    "   \n",
    "# print bitwise right shift operation  \n",
    "print(\"bitwise right shift operation \")\n",
    "print(bin(a))\n",
    "print(bin(a>>2))\n",
    "print(\"right shift a by 2 bit:\",a >> 2) \n",
    "print(\"-----------------------------\")\n",
    "   \n",
    "# print bitwise left shift operation  \n",
    "print(\"bitwise left shift operation \")\n",
    "print(bin(a))\n",
    "print(bin(a<<2))\n",
    "print(\"left shift a by 2 bit:\",a << 2)\n",
    "print(\"-----------------------------\")"
   ]
  },
  {
   "cell_type": "markdown",
   "metadata": {},
   "source": [
    "### Special operators: Special operators are of two types-\n",
    "###### Identity operator that contains is and is not.\n",
    "###### Membership operator that contains in and not in."
   ]
  },
  {
   "cell_type": "code",
   "execution_count": 32,
   "metadata": {},
   "outputs": [
    {
     "name": "stdout",
     "output_type": "stream",
     "text": [
      "True\n",
      "False\n",
      "False\n",
      "True\n",
      "character found in a1\n"
     ]
    }
   ],
   "source": [
    "# Examples of Identity and \n",
    "# Membership operator\n",
    " \n",
    " \n",
    "a1 = 'Vijay Mourya'\n",
    "b1 = 'Mourya Vijay'\n",
    " \n",
    "# Identity operator\n",
    "print(a1 is not b1)\n",
    "print(a1 is b1)\n",
    " \n",
    "# Membership operator\n",
    "print(\"G\" in a1)\n",
    "print(\"N\" not in b1)\n",
    "\n",
    "#with if block\n",
    "if \"V\" in a1:\n",
    "    print(\"character found in a1\")\n",
    "elif \"V\" in b1:\n",
    "    print(\"character found in b1\")\n",
    "else:\n",
    "    print(\"character found\")"
   ]
  },
  {
   "cell_type": "markdown",
   "metadata": {},
   "source": [
    "# User Input"
   ]
  },
  {
   "cell_type": "code",
   "execution_count": 33,
   "metadata": {},
   "outputs": [
    {
     "name": "stdout",
     "output_type": "stream",
     "text": [
      "Enter username:vijay\n",
      "Username is: vijay\n"
     ]
    }
   ],
   "source": [
    "# Never make prompts while reading user input unless it is asked in w=question or application requirement\n",
    "username = input(\"Enter username:\")\n",
    "print(\"Username is: \" + username)"
   ]
  },
  {
   "cell_type": "code",
   "execution_count": 34,
   "metadata": {},
   "outputs": [
    {
     "name": "stdout",
     "output_type": "stream",
     "text": [
      "Enter your number:654645\n",
      "Phone Number: 654645\n"
     ]
    }
   ],
   "source": [
    "phone = int(input(\"Enter your number:\"))\n",
    "print(\"Phone Number:\",phone)"
   ]
  },
  {
   "cell_type": "code",
   "execution_count": 36,
   "metadata": {},
   "outputs": [
    {
     "name": "stdout",
     "output_type": "stream",
     "text": [
      "VIJAY\n"
     ]
    }
   ],
   "source": [
    "#taking multiple user input in seperate variables\n",
    "A, B, C, D, E=\"V\",\"I\",\"J\",\"A\",\"Y\"\n",
    "print(A+B+C+D+E)"
   ]
  },
  {
   "cell_type": "code",
   "execution_count": 39,
   "metadata": {},
   "outputs": [
    {
     "name": "stdout",
     "output_type": "stream",
     "text": [
      "1 2 3 4 5 6 7 8 9 10\n",
      "['1', '2', '3', '4', '5', '6', '7', '8', '9', '10']\n",
      "[1, 2, 3, 4, 5, 6, 7, 8, 9, 10]\n"
     ]
    }
   ],
   "source": [
    "#Taking multiple user inputs in a list by default all are string\n",
    "A=input().split()\n",
    "print(A)\n",
    "# to conver in into in use type conversion\n",
    "for i in range(len(A)):\n",
    "    A[i]=int(A[i])\n",
    "print(A)"
   ]
  },
  {
   "cell_type": "markdown",
   "metadata": {},
   "source": [
    "# printing output"
   ]
  },
  {
   "cell_type": "code",
   "execution_count": 1,
   "metadata": {},
   "outputs": [
    {
     "name": "stdout",
     "output_type": "stream",
     "text": [
      "Nikita Narendra Kondalkar "
     ]
    }
   ],
   "source": [
    "#printing one lines using multiple print statements\n",
    "print(\"Nikita\", end=\" \")\n",
    "print(\"Narendra\", end=\" \")\n",
    "print(\"Kondalkar\", end=\" \")"
   ]
  },
  {
   "cell_type": "code",
   "execution_count": 7,
   "metadata": {},
   "outputs": [
    {
     "name": "stdout",
     "output_type": "stream",
     "text": [
      "Name :Vijay, Father's initial :R, Surname :Mourya, Age :22\n"
     ]
    }
   ],
   "source": [
    "#Using +\" \"+ to concat string\n",
    "A, B, C, D= \"Vijay\", \"R\", \"Mourya\",22\n",
    "print(\"Name :\"+A+\", Father's initial :\"+B+\", Surname :\"+C+\", Age :\"+str(D))"
   ]
  },
  {
   "cell_type": "code",
   "execution_count": 8,
   "metadata": {},
   "outputs": [
    {
     "name": "stdout",
     "output_type": "stream",
     "text": [
      "Name : Vijay , Father's initial : R , Surname : Mourya , Age : 22\n"
     ]
    }
   ],
   "source": [
    "#Using , to concat string\n",
    "A, B, C, D= \"Vijay\", \"R\", \"Mourya\",22\n",
    "print(\"Name :\",A,\", Father's initial :\",B,\", Surname :\",C,\", Age :\",str(D))"
   ]
  },
  {
   "cell_type": "code",
   "execution_count": 9,
   "metadata": {},
   "outputs": [
    {
     "name": "stdout",
     "output_type": "stream",
     "text": [
      "number one, number two, number three, number 4, number 5\n"
     ]
    }
   ],
   "source": [
    "#Using .format{} to print\n",
    "A, B, C, D, E= \"one\", \"two\", \"three\", 4, 5\n",
    "print(\"number {}, number {}, number {}, number {}, number {}\".format(A, B, C, D, E))"
   ]
  },
  {
   "cell_type": "code",
   "execution_count": 14,
   "metadata": {},
   "outputs": [
    {
     "name": "stdout",
     "output_type": "stream",
     "text": [
      "Name Vijay Mourya working at TCS, Vijay is 22 Years old, will continue to work at TCS for 2 years more\n"
     ]
    }
   ],
   "source": [
    "#Using .format{} to print multi line string with custome fomating variable\n",
    "A,B,C=\"Vijay\",\"Mourya\",\"TCS\"\n",
    "print(\"Name {name} {surname} working at {Company}, {name} is 22 Years old, will continue to work at {Company} for 2 years more\".format(name=A,surname=B,Company=C))"
   ]
  },
  {
   "cell_type": "code",
   "execution_count": 15,
   "metadata": {},
   "outputs": [
    {
     "name": "stdout",
     "output_type": "stream",
     "text": [
      "number one, number two, number three, number 4, number 5\n"
     ]
    }
   ],
   "source": [
    "#Using f\" \" to print\n",
    "A, B, C, D, E= \"one\", \"two\", \"three\", 4, 5\n",
    "print(f\"number {A}, number {B}, number {C}, number {D}, number {E}\")"
   ]
  },
  {
   "cell_type": "markdown",
   "metadata": {},
   "source": [
    "# Data Type"
   ]
  },
  {
   "cell_type": "code",
   "execution_count": 24,
   "metadata": {},
   "outputs": [
    {
     "name": "stdout",
     "output_type": "stream",
     "text": [
      "Type of a:  <class 'int'>\n",
      "\n",
      "Type of b:  <class 'float'>\n",
      "\n",
      "Type of c:  <class 'complex'>\n"
     ]
    }
   ],
   "source": [
    "# Python program to  \n",
    "# demonstrate numeric value \n",
    "   \n",
    "print(\"Type of a: \", type(5)) \n",
    "   \n",
    "print(\"\\nType of b: \", type(5.0)) \n",
    "   \n",
    "c = 2 + 4j\n",
    "print(\"\\nType of c: \", type(c)) "
   ]
  },
  {
   "cell_type": "code",
   "execution_count": 26,
   "metadata": {},
   "outputs": [
    {
     "name": "stdout",
     "output_type": "stream",
     "text": [
      "Welcome to the Python World\n",
      "I'm a Python coder\n",
      "I'm a vijay and I live in a world of \"Python\"\n"
     ]
    }
   ],
   "source": [
    "# Python Program for  \n",
    "# Creation of String  \n",
    "     \n",
    "# String with single quotes   \n",
    "print('Welcome to the Python World')\n",
    "     \n",
    "# String with double quotes  \n",
    "print(\"I'm a Python coder\")\n",
    "     \n",
    "# String with triple quotes\n",
    "print('''I'm a vijay and I live in a world of \"Python\"''')\n"
   ]
  },
  {
   "cell_type": "code",
   "execution_count": 28,
   "metadata": {},
   "outputs": [
    {
     "name": "stdout",
     "output_type": "stream",
     "text": [
      "V\n",
      "a\n"
     ]
    }
   ],
   "source": [
    "String1 = \"Vijay Mourya\"\n",
    "     \n",
    "# Printing First character \n",
    "print(String1[0])  \n",
    "     \n",
    "# Printing Last character \n",
    "print(String1[-1])  "
   ]
  },
  {
   "cell_type": "markdown",
   "metadata": {},
   "source": [
    "# Python Program to Update / delete  character of a String  \n",
    "String1 = \"Hello, I'm a Geek\"\n",
    "     \n",
    "##### Updating a character\n",
    "String1[2] = 'p' \n",
    "##### ‘str’ object does not support item assignment gives error\n",
    "'''Traceback (most recent call last):\n",
    "File “/home/360bb1830c83a918fc78aa8979195653.py”, line 6, in\n",
    "String1[2] = ‘p’\n",
    "TypeError: ‘str’ object does not support item assignment'''\n",
    "   \n",
    "##### Deleting a character   \n",
    "del String1[2]\n",
    "##### ‘str’ object doesn’t support item deletion gives error\n",
    "Traceback (most recent call last):\n",
    "File “/home/499e96a61e19944e7e45b7a6e1276742.py”, line 8, in\n",
    "del String1[2]\n",
    "TypeError: ‘str’ object doesn’t support item deletion"
   ]
  },
  {
   "cell_type": "markdown",
   "metadata": {},
   "source": [
    "# String: Operating, Manipulating and Functions"
   ]
  },
  {
   "cell_type": "code",
   "execution_count": 39,
   "metadata": {},
   "outputs": [
    {
     "name": "stdout",
     "output_type": "stream",
     "text": [
      "vijay mourya\n",
      "Vijay mourya\n"
     ]
    }
   ],
   "source": [
    "# capitalize() \tConverts the first character to upper case\n",
    "A=\"vijay mourya\"\n",
    "print(A)\n",
    "B=A.capitalize()\n",
    "print(B)"
   ]
  },
  {
   "cell_type": "code",
   "execution_count": 43,
   "metadata": {
    "scrolled": true
   },
   "outputs": [
    {
     "name": "stdout",
     "output_type": "stream",
     "text": [
      "2\n",
      "4\n",
      "3\n"
     ]
    }
   ],
   "source": [
    "# count()\tReturns the number of times a specified value occurs in a string\n",
    "txt = \"I love apples, apple are my favorite fruit\"\n",
    "x = txt.count(\"apple\")\n",
    "print(x)\n",
    "x = txt.count(\"a\")\n",
    "print(x)\n",
    "x = txt.count(\"l\")\n",
    "print(x)"
   ]
  },
  {
   "cell_type": "code",
   "execution_count": 48,
   "metadata": {},
   "outputs": [
    {
     "name": "stdout",
     "output_type": "stream",
     "text": [
      "True\n",
      "True\n",
      "False\n",
      "True\n"
     ]
    }
   ],
   "source": [
    "# endswith()\tReturns true if the string ends with the specified value\n",
    "txt = \"Hello, welcome to my world.\"\n",
    "x = txt.endswith(\"world.\")\n",
    "print(x)\n",
    "x = txt.endswith(\"ld.\")\n",
    "print(x)\n",
    "x = txt.endswith(\"Hello\")\n",
    "print(x)\n",
    "x = txt.endswith(\"to my world.\")\n",
    "print(x)"
   ]
  },
  {
   "cell_type": "code",
   "execution_count": 97,
   "metadata": {},
   "outputs": [
    {
     "name": "stdout",
     "output_type": "stream",
     "text": [
      "find 7\n",
      "index 7\n",
      "7\n",
      "7\n",
      "21\n",
      "rfind 7\n",
      "rindex 7\n",
      "21\n",
      "7\n",
      "21\n"
     ]
    }
   ],
   "source": [
    "#----------------------------------------------------------------------------------------------------------\n",
    "# find()\tSearches the string for a specified value and returns the position of where it was found\n",
    "# index()\tSearches the string for a specified value and returns the position of where it was found\n",
    "\n",
    "txt = \"Hello, welcome to my world.\"\n",
    "x = txt.find(\"welcome\")\n",
    "print(\"find\",x)\n",
    "x = txt.find(\"welcome\")\n",
    "print(\"index\",x)\n",
    "\n",
    "#Where in the text is the first occurrence of the letter \"w\"?:\n",
    "x = txt.find(\"w\") #there are two W but it returns first index\n",
    "print(x)\n",
    "\n",
    "#Where in the text is the first occurrence of the letter \"e\" when you only search between position 5 and 10?:\n",
    "x = txt.find(\"w\",5,10) #there is one W in \" welc\" it returns first index\n",
    "print(x)\n",
    "\n",
    "#Where in the text is the first occurrence of the letter \"e\" when you only search between position 8 and 23?:\n",
    "x = txt.find(\"w\",8,23) #there is one W in \"elcome to my wor\" it returns first index\n",
    "print(x)\n",
    "\n",
    "#----------------------------------------------------------------------------------------------------------\n",
    "# rfind()\tSearches the string for a specified value and returns the last position of where it was found\n",
    "# rindex()\tSearches the string for a specified value and returns the last position of where it was found\n",
    "\n",
    "txt = \"Hello, welcome to my world.\"\n",
    "x = txt.rfind(\"welcome\")\n",
    "print(\"rfind\",x)\n",
    "x = txt.rindex(\"welcome\")\n",
    "print(\"rindex\",x)\n",
    "\n",
    "#Where in the text is the first occurrence of the letter \"w\"?:\n",
    "x = txt.rfind(\"w\") #there are two W but it returns first index\n",
    "print(x)\n",
    "\n",
    "#Where in the text is the first occurrence of the letter \"e\" when you only search between position 5 and 10?:\n",
    "x = txt.rfind(\"w\",5,10) #there is one W in \" welc\" it returns first index\n",
    "print(x)\n",
    "\n",
    "#Where in the text is the first occurrence of the letter \"e\" when you only search between position 8 and 23?:\n",
    "x = txt.rfind(\"w\",8,23) #there is one W in \"elcome to my wor\" it returns first index\n",
    "print(x)"
   ]
  },
  {
   "cell_type": "code",
   "execution_count": 80,
   "metadata": {},
   "outputs": [
    {
     "name": "stdout",
     "output_type": "stream",
     "text": [
      "True\n",
      "True\n",
      "True\n",
      "False\n"
     ]
    }
   ],
   "source": [
    "# isalnum()\tReturns True if all characters in the string are alphanumeric i.e. alphabets/numbers\n",
    "txt = \"Company 12\"\n",
    "x = n.isalnum()\n",
    "print(x)\n",
    "txt = \"Company\"\n",
    "x = txt.isalnum()\n",
    "print(x)\n",
    "txt = \"121512\"\n",
    "x = txt.isalnum()\n",
    "print(x)\n",
    "txt = \"---------\"\n",
    "x = txt.isalnum()\n",
    "print(x)"
   ]
  },
  {
   "cell_type": "code",
   "execution_count": 81,
   "metadata": {},
   "outputs": [
    {
     "name": "stdout",
     "output_type": "stream",
     "text": [
      "False\n",
      "True\n",
      "False\n",
      "False\n"
     ]
    }
   ],
   "source": [
    "# isalpha()\tReturns True if all characters in the string are in the alphabet\n",
    "txt = \"Company 12\"\n",
    "x = n.isalpha()\n",
    "print(x)\n",
    "txt = \"Company\"\n",
    "x = txt.isalpha()\n",
    "print(x)\n",
    "txt = \"121512\"\n",
    "x = txt.isalpha()\n",
    "print(x)\n",
    "txt = \"---------\"\n",
    "x = txt.isalpha()\n",
    "print(x)"
   ]
  },
  {
   "cell_type": "code",
   "execution_count": 82,
   "metadata": {},
   "outputs": [
    {
     "name": "stdout",
     "output_type": "stream",
     "text": [
      "False\n",
      "False\n",
      "True\n",
      "False\n"
     ]
    }
   ],
   "source": [
    "# isdigit()\tReturns True if all characters in the string are digits\n",
    "txt = \"Company 12\"\n",
    "x = n.isdigit()\n",
    "print(x)\n",
    "txt = \"Company\"\n",
    "x = txt.isdigit()\n",
    "print(x)\n",
    "txt = \"121512\"\n",
    "x = txt.isdigit()\n",
    "print(x)\n",
    "txt = \"---------\"\n",
    "x = txt.isdigit()\n",
    "print(x)"
   ]
  },
  {
   "cell_type": "code",
   "execution_count": 85,
   "metadata": {},
   "outputs": [
    {
     "name": "stdout",
     "output_type": "stream",
     "text": [
      "True\n",
      "False\n",
      "True\n"
     ]
    }
   ],
   "source": [
    "# islower()\tReturns True if all characters in the string are lower case\n",
    "# lower()\tConverts a string into lower case\n",
    "txt = \"hello world!\"\n",
    "x = txt.islower()\n",
    "print(x)\n",
    "txt = \"HeLLO world!\"\n",
    "x = txt.islower()\n",
    "print(x)\n",
    "txt = txt.lower()\n",
    "x = txt.islower()\n",
    "print(x)"
   ]
  },
  {
   "cell_type": "code",
   "execution_count": 102,
   "metadata": {},
   "outputs": [
    {
     "name": "stdout",
     "output_type": "stream",
     "text": [
      "True\n",
      "False\n",
      "True\n"
     ]
    }
   ],
   "source": [
    "# isupper()\tReturns True if all characters in the string are upper case\n",
    "# upper()\tConverts a string into upper case\n",
    "txt = \"HELLO WORLD!\"\n",
    "x = txt.isupper()\n",
    "print(x)\n",
    "txt = \"HeLLO world!\"\n",
    "x = txt.isupper()\n",
    "print(x)\n",
    "txt = txt.upper()\n",
    "x = txt.isupper()\n",
    "print(x)"
   ]
  },
  {
   "cell_type": "code",
   "execution_count": 103,
   "metadata": {},
   "outputs": [
    {
     "name": "stdout",
     "output_type": "stream",
     "text": [
      "hello world!\n",
      "hEllo WORLD!\n"
     ]
    }
   ],
   "source": [
    "# swapcase()\tSwaps cases, lower case becomes upper case and vice versa\n",
    "txt = \"HELLO WORLD!\"\n",
    "x = txt.swapcase()\n",
    "print(x)\n",
    "txt = \"HeLLO world!\"\n",
    "x = txt.swapcase()\n",
    "print(x)"
   ]
  },
  {
   "cell_type": "code",
   "execution_count": 92,
   "metadata": {},
   "outputs": [
    {
     "name": "stdout",
     "output_type": "stream",
     "text": [
      "Kikita Kondalkar\n",
      "nikita kondalkar\n",
      "Kikita koKdalkar\n"
     ]
    }
   ],
   "source": [
    "# replace()\tReturns a string where a specified value is replaced with a specified value\n",
    "A=\"Nikita Kondalkar\"\n",
    "A=A.replace(\"N\",\"K\")\n",
    "print(A)\n",
    "A=\"Nikita Kondalkar\"\n",
    "A=A.lower()\n",
    "A=A.replace(\"N\",\"K\")\n",
    "print(A)\n",
    "A=\"Nikita Kondalkar\"\n",
    "A=A.lower()\n",
    "A=A.replace(\"n\",\"K\")\n",
    "print(A)"
   ]
  },
  {
   "cell_type": "code",
   "execution_count": 101,
   "metadata": {},
   "outputs": [
    {
     "name": "stdout",
     "output_type": "stream",
     "text": [
      "['welcome', 'to', 'the', 'jungle']\n",
      "['hello', 'my name is Peter', 'I am 26 years old']\n",
      "['apple', 'banana', 'cherry', 'orange']\n",
      "['apple', 'banana#cherry#orange']\n"
     ]
    }
   ],
   "source": [
    "# split()\tSplits the string at the specified separator, and returns a list\n",
    "txt = \"welcome to the jungle\"\n",
    "x = txt.split()\n",
    "print(x)\n",
    "\n",
    "txt = \"hello, my name is Peter, I am 26 years old\"\n",
    "x = txt.split(\", \")\n",
    "print(x)\n",
    "\n",
    "txt = \"apple#banana#cherry#orange\"\n",
    "x = txt.split(\"#\")\n",
    "print(x)\n",
    "\n",
    "txt = \"apple#banana#cherry#orange\"\n",
    "# setting the maxsplit parameter to 1, will return a list with 2 elements!\n",
    "x = txt.split(\"#\", 1)\n",
    "print(x)"
   ]
  },
  {
   "cell_type": "markdown",
   "metadata": {},
   "source": [
    "# List: operating manipulating and functions"
   ]
  },
  {
   "cell_type": "code",
   "execution_count": 110,
   "metadata": {},
   "outputs": [
    {
     "name": "stdout",
     "output_type": "stream",
     "text": [
      "[]\n",
      "['GeeksForGeeks', 'Geeks']\n",
      "[['Geeks', 'For'], ['Geeks']]\n"
     ]
    }
   ],
   "source": [
    "# Python program to demonstrate   \n",
    "# Creation of List   \n",
    "     \n",
    "# Creating a List  \n",
    "List = []  \n",
    "print(List)  \n",
    "     \n",
    "# Creating a list of strings\n",
    "List = ['GeeksForGeeks', 'Geeks'] \n",
    "print(List)  \n",
    "     \n",
    "# Creating a Multi-Dimensional List  \n",
    "List = [['Geeks', 'For'], ['Geeks']]  \n",
    "print(List)"
   ]
  },
  {
   "cell_type": "code",
   "execution_count": 111,
   "metadata": {},
   "outputs": [
    {
     "name": "stdout",
     "output_type": "stream",
     "text": [
      "[1, 2]\n",
      "['Geeks', 1, 2, 12]\n",
      "['Geeks', 1, 2, 12, 8, 'Geeks', 'Always']\n"
     ]
    }
   ],
   "source": [
    "# Python program to demonstrate   \n",
    "# Addition of elements in a List  \n",
    "     \n",
    "# Creating a List  \n",
    "List = []\n",
    "     \n",
    "# Using append()\n",
    "List.append(1)  \n",
    "List.append(2)\n",
    "print(List)  \n",
    "   \n",
    "# Using insert()\n",
    "List.insert(3, 12)  \n",
    "List.insert(0, 'Geeks')\n",
    "print(List)  \n",
    "   \n",
    "# Using extend()  \n",
    "List.extend([8, 'Geeks', 'Always'])  \n",
    "print(List)"
   ]
  },
  {
   "cell_type": "code",
   "execution_count": 112,
   "metadata": {},
   "outputs": [
    {
     "name": "stdout",
     "output_type": "stream",
     "text": [
      "1\n",
      "3\n",
      "6\n",
      "4\n"
     ]
    }
   ],
   "source": [
    "# Python program to demonstrate   \n",
    "# accessing of element from list  \n",
    "     \n",
    " \n",
    "List = [1, 2, 3, 4, 5, 6]  \n",
    "     \n",
    "# accessing a element\n",
    "print(List[0])   \n",
    "print(List[2])  \n",
    "   \n",
    "# Negative indexing\n",
    "# print the last element of list  \n",
    "print(List[-1])\n",
    "# print the third last element of list   \n",
    "print(List[-3])"
   ]
  },
  {
   "cell_type": "code",
   "execution_count": 113,
   "metadata": {},
   "outputs": [
    {
     "name": "stdout",
     "output_type": "stream",
     "text": [
      "[1, 2, 3, 4, 7, 8, 9, 10, 11, 12]\n",
      "[1, 2, 3, 4, 7, 8, 9, 10, 11]\n"
     ]
    }
   ],
   "source": [
    "# Python program to demonstrate   \n",
    "# Removal of elements in a List  \n",
    "     \n",
    "# Creating a List  \n",
    "List = [1, 2, 3, 4, 5, 6,   \n",
    "        7, 8, 9, 10, 11, 12]\n",
    " \n",
    "# using Remove() method  \n",
    "List.remove(5)  \n",
    "List.remove(6)\n",
    "print(List)  \n",
    "   \n",
    "# using pop()\n",
    "List.pop()\n",
    "print(List)"
   ]
  },
  {
   "cell_type": "code",
   "execution_count": 115,
   "metadata": {},
   "outputs": [
    {
     "name": "stdout",
     "output_type": "stream",
     "text": [
      "['apple', 'banana', 'cherry', 'orange']\n"
     ]
    }
   ],
   "source": [
    "fruits = ['apple', 'banana', 'cherry']\n",
    "fruits.append(\"orange\")\n",
    "print(fruits)"
   ]
  },
  {
   "cell_type": "code",
   "execution_count": 117,
   "metadata": {},
   "outputs": [
    {
     "name": "stdout",
     "output_type": "stream",
     "text": [
      "['apple', 'banana', 'cherry', ['Ford', 'BMW', 'Volvo']]\n"
     ]
    }
   ],
   "source": [
    "a = [\"apple\", \"banana\", \"cherry\"]\n",
    "b = [\"Ford\", \"BMW\", \"Volvo\"]\n",
    "a.append(b)\n",
    "print(a)"
   ]
  },
  {
   "cell_type": "code",
   "execution_count": 118,
   "metadata": {},
   "outputs": [
    {
     "name": "stdout",
     "output_type": "stream",
     "text": [
      "['apple', 'banana', 'cherry', 'orange']\n",
      "[]\n"
     ]
    }
   ],
   "source": [
    "fruits = ['apple', 'banana', 'cherry', 'orange']\n",
    "print(fruits)\n",
    "fruits.clear()\n",
    "print(fruits)"
   ]
  },
  {
   "cell_type": "code",
   "execution_count": 119,
   "metadata": {},
   "outputs": [
    {
     "name": "stdout",
     "output_type": "stream",
     "text": [
      "['apple', 'banana', 'cherry', 'orange']\n"
     ]
    }
   ],
   "source": [
    "fruits = ['apple', 'banana', 'cherry', 'orange']\n",
    "x = fruits.copy()\n",
    "print(x)"
   ]
  },
  {
   "cell_type": "code",
   "execution_count": 121,
   "metadata": {},
   "outputs": [
    {
     "name": "stdout",
     "output_type": "stream",
     "text": [
      "1\n",
      "2\n"
     ]
    }
   ],
   "source": [
    "fruits = ['apple', 'banana', 'cherry']\n",
    "x = fruits.count(\"cherry\")\n",
    "print(x)\n",
    "points = [1, 4, 2, 9, 7, 8, 9, 3, 1]\n",
    "x = points.count(9)\n",
    "print(x)"
   ]
  },
  {
   "cell_type": "code",
   "execution_count": 123,
   "metadata": {},
   "outputs": [
    {
     "name": "stdout",
     "output_type": "stream",
     "text": [
      "['apple', 'banana', 'cherry', 'Ford', 'BMW', 'Volvo']\n",
      "['apple', 'banana', 'cherry', 1, 4, 5, 9]\n"
     ]
    }
   ],
   "source": [
    "fruits = ['apple', 'banana', 'cherry']\n",
    "cars = ['Ford', 'BMW', 'Volvo']\n",
    "fruits.extend(cars)\n",
    "print(fruits)\n",
    "\n",
    "fruits = ['apple', 'banana', 'cherry']\n",
    "points = (1, 4, 5, 9)\n",
    "fruits.extend(points)\n",
    "print(fruits)"
   ]
  },
  {
   "cell_type": "code",
   "execution_count": 125,
   "metadata": {},
   "outputs": [
    {
     "name": "stdout",
     "output_type": "stream",
     "text": [
      "2\n",
      "3\n"
     ]
    }
   ],
   "source": [
    "fruits = ['apple', 'banana', 'cherry']\n",
    "x = fruits.index(\"cherry\")\n",
    "print(x)\n",
    "\n",
    "fruits = [4, 55, 64, 32, 16, 32]\n",
    "x = fruits.index(32)\n",
    "print(x)"
   ]
  },
  {
   "cell_type": "code",
   "execution_count": 128,
   "metadata": {},
   "outputs": [
    {
     "name": "stdout",
     "output_type": "stream",
     "text": [
      "['apple', 'orange', 'banana', 'cherry']\n",
      "['Nikita', 'Narendra', 'Kondalkar']\n"
     ]
    }
   ],
   "source": [
    "# insert()\tAdds an element at the specified position\n",
    "fruits = ['apple', 'banana', 'cherry']\n",
    "fruits.insert(1, \"orange\")\n",
    "print(fruits)\n",
    "\n",
    "name=['Nikita','Kondalkar']\n",
    "name.insert(1,'Narendra')\n",
    "print(name)"
   ]
  },
  {
   "cell_type": "code",
   "execution_count": 132,
   "metadata": {},
   "outputs": [
    {
     "name": "stdout",
     "output_type": "stream",
     "text": [
      "['apple', 'cherry']\n",
      "['apple', 'banana']\n",
      "['banana', 'cherry']\n"
     ]
    }
   ],
   "source": [
    "# pop()\tRemoves the element at the specified position\n",
    "fruits = ['apple', 'banana', 'cherry']\n",
    "fruits.pop(1)\n",
    "print(fruits)\n",
    "\n",
    "fruits = ['apple', 'banana', 'cherry']\n",
    "fruits.pop()\n",
    "print(fruits)\n",
    "\n",
    "fruits = ['apple', 'banana', 'cherry']\n",
    "fruits.pop(0)\n",
    "print(fruits)"
   ]
  },
  {
   "cell_type": "code",
   "execution_count": 138,
   "metadata": {},
   "outputs": [
    {
     "name": "stdout",
     "output_type": "stream",
     "text": [
      "['apple', 'cherry']\n",
      "[1, 2, 3, 4, 5, 6, 1, 2, 3, 4, 5, 6, 7, 8, 9, 7, 8, 9, 1, 2, 3, 4]\n",
      "count before removing 3 from list : 3\n",
      "count after removing 3 from list : 2\n",
      "[2, 3, 4, 5, 6, 1, 2, 3, 4, 5, 6, 7, 8, 9, 7, 8, 9, 1, 2, 3, 4]\n"
     ]
    }
   ],
   "source": [
    "# remove()\tRemoves the first item with the specified value\n",
    "fruits = ['apple', 'banana', 'cherry']\n",
    "fruits.remove(\"banana\")\n",
    "print(fruits)\n",
    "\n",
    "point=[1,2,3,4,5,6,1,2,3,4,5,6,7,8,9,7,8,9,1,2,3,4]\n",
    "print(point)\n",
    "print(\"count before removing 3 from list :\",point.count(1))\n",
    "point.remove(1)\n",
    "print(\"count after removing 3 from list :\",point.count(1))\n",
    "print(point)"
   ]
  },
  {
   "cell_type": "code",
   "execution_count": 139,
   "metadata": {},
   "outputs": [
    {
     "name": "stdout",
     "output_type": "stream",
     "text": [
      "['cherry', 'banana', 'apple']\n"
     ]
    }
   ],
   "source": [
    "# reverse()\tReverses the order of the list\n",
    "fruits = ['apple', 'banana', 'cherry']\n",
    "fruits.reverse()\n",
    "print(fruits)"
   ]
  },
  {
   "cell_type": "code",
   "execution_count": 142,
   "metadata": {},
   "outputs": [
    {
     "name": "stdout",
     "output_type": "stream",
     "text": [
      "['BMW', 'Ford', 'Volvo']\n",
      "[1, 1, 1, 2, 2, 2, 3, 3, 3, 4, 4, 4, 5, 5, 6, 6, 7, 7, 8, 8, 9, 9]\n"
     ]
    }
   ],
   "source": [
    "# sort()\tSorts the list\n",
    "cars = ['Ford', 'BMW', 'Volvo']\n",
    "cars.sort()\n",
    "print(cars)\n",
    "\n",
    "point=[1,2,3,4,5,6,1,2,3,4,5,6,7,8,9,7,8,9,1,2,3,4]\n",
    "point.sort()\n",
    "print(point)"
   ]
  },
  {
   "cell_type": "code",
   "execution_count": 143,
   "metadata": {},
   "outputs": [
    {
     "name": "stdout",
     "output_type": "stream",
     "text": [
      "['Volvo', 'Ford', 'BMW']\n",
      "[9, 9, 8, 8, 7, 7, 6, 6, 5, 5, 4, 4, 4, 3, 3, 3, 2, 2, 2, 1, 1, 1]\n"
     ]
    }
   ],
   "source": [
    "# Sort the list descending:\n",
    "cars = ['Ford', 'BMW', 'Volvo']\n",
    "cars.sort(reverse=True)\n",
    "print(cars)\n",
    "\n",
    "point=[1,2,3,4,5,6,1,2,3,4,5,6,7,8,9,7,8,9,1,2,3,4]\n",
    "point.sort(reverse=True)\n",
    "print(point)"
   ]
  },
  {
   "cell_type": "markdown",
   "metadata": {},
   "source": [
    "# Genrally used combined string and list function"
   ]
  },
  {
   "cell_type": "code",
   "execution_count": 145,
   "metadata": {},
   "outputs": [
    {
     "name": "stdout",
     "output_type": "stream",
     "text": [
      "['w', 'e', 'l', 'c', 'o', 'm', 'e', ' ', 't', 'o', ' ', 't', 'h', 'e', ' ', 'j', 'u', 'n', 'g', 'l', 'e']\n",
      "welcome to the jungle\n"
     ]
    }
   ],
   "source": [
    "# dividing each letter of string into a list\n",
    "txt = \"welcome to the jungle\"\n",
    "x = list(txt)\n",
    "print(x)\n",
    "a=\"\".join(x)\n",
    "print(a)"
   ]
  },
  {
   "cell_type": "code",
   "execution_count": 149,
   "metadata": {},
   "outputs": [
    {
     "name": "stdout",
     "output_type": "stream",
     "text": [
      "['welcome', 'to', 'the', 'jungle']\n",
      "welcome---to---the---jungle\n",
      "welcome---to---the---jungle\n"
     ]
    }
   ],
   "source": [
    "txt = \"welcome to the jungle\"\n",
    "x = txt.split(\" \")\n",
    "print(x)\n",
    "a=\"---\".join(x)\n",
    "print(a)\n",
    "\n",
    "txt = \"welcome to the jungle\"\n",
    "x=txt.replace(\" \",\"---\")\n",
    "print(x)"
   ]
  },
  {
   "cell_type": "code",
   "execution_count": 154,
   "metadata": {},
   "outputs": [
    {
     "name": "stdout",
     "output_type": "stream",
     "text": [
      "['A', 'function', 'that', 'returns', 'the', 'length', 'of', 'the', 'value']\n",
      "string has 9 words\n",
      "words sorted in alphabetical order ['A', 'function', 'length', 'of', 'returns', 'that', 'the', 'the', 'value']\n",
      "words sorted in reverse order ['value', 'the', 'the', 'that', 'returns', 'of', 'length', 'function', 'A']\n"
     ]
    }
   ],
   "source": [
    "A='A function that returns the length of the value'\n",
    "x=A.split(\" \")\n",
    "print(x)\n",
    "print(f'string has {len(x)} words')\n",
    "x.sort()\n",
    "print('words sorted in alphabetical order', x)\n",
    "x.sort(reverse=True)\n",
    "print('words sorted in reverse order', x)"
   ]
  },
  {
   "cell_type": "code",
   "execution_count": null,
   "metadata": {},
   "outputs": [],
   "source": []
  }
 ],
 "metadata": {
  "kernelspec": {
   "display_name": "Python 3",
   "language": "python",
   "name": "python3"
  },
  "language_info": {
   "codemirror_mode": {
    "name": "ipython",
    "version": 3
   },
   "file_extension": ".py",
   "mimetype": "text/x-python",
   "name": "python",
   "nbconvert_exporter": "python",
   "pygments_lexer": "ipython3",
   "version": "3.8.5"
  }
 },
 "nbformat": 4,
 "nbformat_minor": 4
}
