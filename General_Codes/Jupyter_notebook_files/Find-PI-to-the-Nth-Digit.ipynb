{
 "cells": [
  {
   "cell_type": "markdown",
   "metadata": {},
   "source": [
    "### Find PI to the Nth Digit"
   ]
  },
  {
   "cell_type": "markdown",
   "metadata": {},
   "source": [
    "Enter a number and have the program generate π (pi) up to that many decimal places."
   ]
  },
  {
   "cell_type": "code",
   "execution_count": null,
   "metadata": {},
   "outputs": [],
   "source": [
    "# input:\n",
    "# 10\n",
    "\n",
    "# output:\n",
    "# 3.1428571429"
   ]
  },
  {
   "cell_type": "code",
   "execution_count": 1,
   "metadata": {},
   "outputs": [
    {
     "name": "stdout",
     "output_type": "stream",
     "text": [
      "3.142857142857143\n"
     ]
    }
   ],
   "source": [
    "Pi=22/7\n",
    "print(Pi)"
   ]
  },
  {
   "cell_type": "code",
   "execution_count": 10,
   "metadata": {},
   "outputs": [
    {
     "name": "stdout",
     "output_type": "stream",
     "text": [
      "How long PI do you want: (range 1-50)10\n",
      "Your PI is: 3.1428571429\n",
      "Do you want another length?(Yes/No)\n",
      "kh\n",
      "You did not choose correct option GOODBYE! try later\n"
     ]
    }
   ],
   "source": [
    "while(1):\n",
    "    A=int(input('How long PI do you want: (range 1-50)'))\n",
    "    if(A>0 and A<51):\n",
    "        print(f'Your PI is: %10.{A}f' %Pi)\n",
    "        print('Do you want another length?(Yes/No)')\n",
    "        D=input()\n",
    "        if(D=='Yes'):\n",
    "            continue\n",
    "        elif(D=='No'):\n",
    "            break\n",
    "        else:\n",
    "            print('You did not choose correct option GOODBYE! try later')\n",
    "            break\n",
    "            \n",
    "    else:\n",
    "        print(\"Please enter valid length.\")"
   ]
  }
 ],
 "metadata": {
  "kernelspec": {
   "display_name": "Python 3",
   "language": "python",
   "name": "python3"
  },
  "language_info": {
   "codemirror_mode": {
    "name": "ipython",
    "version": 3
   },
   "file_extension": ".py",
   "mimetype": "text/x-python",
   "name": "python",
   "nbconvert_exporter": "python",
   "pygments_lexer": "ipython3",
   "version": "3.8.5"
  }
 },
 "nbformat": 4,
 "nbformat_minor": 4
}
