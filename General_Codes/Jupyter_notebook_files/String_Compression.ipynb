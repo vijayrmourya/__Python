{
 "cells": [
  {
   "cell_type": "markdown",
   "metadata": {},
   "source": [
    "Compress the given word string"
   ]
  },
  {
   "cell_type": "code",
   "execution_count": null,
   "metadata": {},
   "outputs": [],
   "source": [
    "# input:\n",
    "# aaaAAasHJIYVhkBYUVhbhVBIbtguvU\n",
    "\n",
    "# output:\n",
    "# a4A2s1H1J1I2Y2V3h3k1B2U2b2t1g1u1v1"
   ]
  },
  {
   "cell_type": "code",
   "execution_count": 15,
   "metadata": {},
   "outputs": [
    {
     "name": "stdout",
     "output_type": "stream",
     "text": [
      "aaaAAasHJIYVhkBYUVhbhVBIbtguvU\n",
      "a4A2s1H1J1I2Y2V3h3k1B2U2b2t1g1u1v1\n"
     ]
    }
   ],
   "source": [
    "a=input()\n",
    "a=a.replace(' ','')\n",
    "x=[]\n",
    "b=''\n",
    "for i in a:\n",
    "    if i not in x:\n",
    "        x.append(i) \n",
    "for i in x:\n",
    "    b=b+i+str(a.count(i))\n",
    "print(b)"
   ]
  },
  {
   "cell_type": "code",
   "execution_count": null,
   "metadata": {},
   "outputs": [],
   "source": []
  }
 ],
 "metadata": {
  "kernelspec": {
   "display_name": "Python 3",
   "language": "python",
   "name": "python3"
  },
  "language_info": {
   "codemirror_mode": {
    "name": "ipython",
    "version": 3
   },
   "file_extension": ".py",
   "mimetype": "text/x-python",
   "name": "python",
   "nbconvert_exporter": "python",
   "pygments_lexer": "ipython3",
   "version": "3.8.5"
  }
 },
 "nbformat": 4,
 "nbformat_minor": 4
}
