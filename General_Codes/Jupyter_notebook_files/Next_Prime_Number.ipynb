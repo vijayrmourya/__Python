{
 "cells": [
  {
   "cell_type": "markdown",
   "metadata": {},
   "source": [
    "Next Prime Number - Have the program find prime numbers until the user chooses to stop asking for the next one.\n"
   ]
  },
  {
   "cell_type": "code",
   "execution_count": 11,
   "metadata": {},
   "outputs": [],
   "source": [
    "def prime(num):\n",
    "    while(1):\n",
    "        st=0\n",
    "        c=0\n",
    "        num=num+1\n",
    "        for i in range(2,num+1):\n",
    "            if num%i==0:\n",
    "                c+=1\n",
    "                if c>1:\n",
    "                    break\n",
    "        if c==1:\n",
    "            print(\"your next prime number is: \", num)\n",
    "            print(\"Do you want next prime number as well (y/n)\")\n",
    "            a=input().lower()\n",
    "            if a=='n':\n",
    "                print(\"Thank you! bye.\")\n",
    "                break"
   ]
  },
  {
   "cell_type": "code",
   "execution_count": 15,
   "metadata": {},
   "outputs": [
    {
     "name": "stdout",
     "output_type": "stream",
     "text": [
      "Let me know when to start by typing 'start'start\n",
      "your next prime number is:  2\n",
      "Do you want next prime number as well (y/n)\n",
      "y\n",
      "your next prime number is:  3\n",
      "Do you want next prime number as well (y/n)\n",
      "y\n",
      "your next prime number is:  5\n",
      "Do you want next prime number as well (y/n)\n",
      "y\n",
      "your next prime number is:  7\n",
      "Do you want next prime number as well (y/n)\n",
      "y\n",
      "your next prime number is:  11\n",
      "Do you want next prime number as well (y/n)\n",
      "y\n",
      "your next prime number is:  13\n",
      "Do you want next prime number as well (y/n)\n",
      "n\n",
      "Thank you! bye.\n"
     ]
    }
   ],
   "source": [
    "a=input(\"Let me know when to start by typing \\'start\\'\").upper()\n",
    "if a=='START': prime(1)\n",
    "else: \n",
    "    print('Invalid!')"
   ]
  },
  {
   "cell_type": "code",
   "execution_count": null,
   "metadata": {},
   "outputs": [],
   "source": []
  },
  {
   "cell_type": "code",
   "execution_count": null,
   "metadata": {},
   "outputs": [],
   "source": []
  }
 ],
 "metadata": {
  "kernelspec": {
   "display_name": "Python 3",
   "language": "python",
   "name": "python3"
  },
  "language_info": {
   "codemirror_mode": {
    "name": "ipython",
    "version": 3
   },
   "file_extension": ".py",
   "mimetype": "text/x-python",
   "name": "python",
   "nbconvert_exporter": "python",
   "pygments_lexer": "ipython3",
   "version": "3.8.5"
  }
 },
 "nbformat": 4,
 "nbformat_minor": 4
}
