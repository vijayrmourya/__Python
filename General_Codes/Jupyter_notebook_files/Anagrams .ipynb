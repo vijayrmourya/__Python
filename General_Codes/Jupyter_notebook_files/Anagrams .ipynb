{
 "cells": [
  {
   "cell_type": "markdown",
   "metadata": {},
   "source": [
    "Give Two string inputs for the codes to check weather they are anagram or not"
   ]
  },
  {
   "cell_type": "code",
   "execution_count": 1,
   "metadata": {},
   "outputs": [],
   "source": [
    "# Input:\n",
    "# vijay \n",
    "# mourya\n",
    "\n",
    "# Output:\n",
    "# \"vijay \" & \"mourya\" are not Anagrams"
   ]
  },
  {
   "cell_type": "code",
   "execution_count": 1,
   "metadata": {},
   "outputs": [
    {
     "name": "stdout",
     "output_type": "stream",
     "text": [
      "vijay \n",
      "mourya\n",
      "\"vijay \" & \"mourya\" are not Anagrams\n"
     ]
    }
   ],
   "source": [
    "a=input()\n",
    "b=input()\n",
    "c=a.replace(' ','').lower()\n",
    "d=b.replace(' ','').lower()\n",
    "##solution 1\n",
    "if sorted(c)==sorted(d):\n",
    "    print('\"'+a+'\" & \"'+b+'\" are Anagrams')\n",
    "else:\n",
    "    print('\"'+a+'\" & \"'+b+'\" are not Anagrams')"
   ]
  },
  {
   "cell_type": "code",
   "execution_count": 2,
   "metadata": {},
   "outputs": [
    {
     "name": "stdout",
     "output_type": "stream",
     "text": [
      "\"vijay \" & \"mourya\" are not Anagrams\n"
     ]
    }
   ],
   "source": [
    "##solution 2\n",
    "use=''\n",
    "if len(c)>len(d):\n",
    "    use=c\n",
    "else:\n",
    "    use=d\n",
    "flag=1\n",
    "for i in use:\n",
    "    if c.count(i)==d.count(i):\n",
    "        flag=0\n",
    "        continue\n",
    "    else:\n",
    "        flag=1\n",
    "        break\n",
    "if flag==1:\n",
    "    print('\"'+a+'\" & \"'+b+'\" are not Anagrams')\n",
    "else:\n",
    "    print('\"'+a+'\" & \"'+b+'\" are Anagrams')"
   ]
  },
  {
   "cell_type": "code",
   "execution_count": null,
   "metadata": {},
   "outputs": [],
   "source": []
  }
 ],
 "metadata": {
  "kernelspec": {
   "display_name": "Python 3",
   "language": "python",
   "name": "python3"
  },
  "language_info": {
   "codemirror_mode": {
    "name": "ipython",
    "version": 3
   },
   "file_extension": ".py",
   "mimetype": "text/x-python",
   "name": "python",
   "nbconvert_exporter": "python",
   "pygments_lexer": "ipython3",
   "version": "3.8.5"
  }
 },
 "nbformat": 4,
 "nbformat_minor": 4
}
