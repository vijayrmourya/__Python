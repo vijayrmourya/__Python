{
 "cells": [
  {
   "cell_type": "markdown",
   "metadata": {},
   "source": [
    "problem statement is to have 2 array 1st one with n elements and second one with same element as 1st but one random element weil be deleted find that missing element"
   ]
  },
  {
   "cell_type": "code",
   "execution_count": null,
   "metadata": {},
   "outputs": [],
   "source": [
    "# input:\n",
    "# 1 3 9 7 4 2 6 8 5\n",
    "# 9 7 1 3 6 8 4 2\n",
    "\n",
    "# output:\n",
    "# missing number is: 5"
   ]
  },
  {
   "cell_type": "code",
   "execution_count": 32,
   "metadata": {},
   "outputs": [
    {
     "name": "stdout",
     "output_type": "stream",
     "text": [
      "1 3 9 7 4 2 6 8 5\n",
      "9 7 1 3 6 8 4 2\n",
      "missing number is: 5\n"
     ]
    }
   ],
   "source": [
    "a=input().split(' ')\n",
    "b=input().split(' ')\n",
    "c=[int(i) for i in a]\n",
    "d=[int(i) for i in b]\n",
    "#solution1\n",
    "print('missing number is: '+ str(sum(c)-sum(d) ))"
   ]
  },
  {
   "cell_type": "code",
   "execution_count": 35,
   "metadata": {},
   "outputs": [
    {
     "name": "stdout",
     "output_type": "stream",
     "text": [
      "missing element is: 5\n"
     ]
    }
   ],
   "source": [
    "#solution2\n",
    "flag=0\n",
    "for i in c:\n",
    "    if i not in d:\n",
    "        print('missing element is: {}'.format(i))\n",
    "        flag=1\n",
    "        break\n",
    "if flag==0:\n",
    "    print('no element missing')"
   ]
  },
  {
   "cell_type": "code",
   "execution_count": null,
   "metadata": {},
   "outputs": [],
   "source": []
  }
 ],
 "metadata": {
  "kernelspec": {
   "display_name": "Python 3",
   "language": "python",
   "name": "python3"
  },
  "language_info": {
   "codemirror_mode": {
    "name": "ipython",
    "version": 3
   },
   "file_extension": ".py",
   "mimetype": "text/x-python",
   "name": "python",
   "nbconvert_exporter": "python",
   "pygments_lexer": "ipython3",
   "version": "3.8.5"
  }
 },
 "nbformat": 4,
 "nbformat_minor": 4
}
